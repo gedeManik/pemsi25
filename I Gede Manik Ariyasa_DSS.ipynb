{
 "cells": [
  {
   "cell_type": "code",
   "execution_count": 24,
   "id": "3c984f62",
   "metadata": {},
   "outputs": [],
   "source": [
    "import pandas as pd\n",
    "import numpy as np\n"
   ]
  },
  {
   "cell_type": "code",
   "execution_count": 25,
   "id": "508fc509",
   "metadata": {},
   "outputs": [],
   "source": [
    "\n",
    "# Langkah 1: Menyesuaikan panjang bobot dan types dengan jumlah kriteria yang benar\n",
    "criteria = ['pengalaman kerja', 'pendidikan', 'usia', 'status perkawinan', 'status perwakinan']\n",
    "types = ['benefit', 'benefit', 'benefit', 'cost', 'cost']\n",
    "bobot = np.array([0.3, 0.2, 0.2, 0.15, 0.15])\n",
    "\n",
    "# Langkah 2: Membuat DataFrame\n",
    "data_matriks_pekerja = {\n",
    "    'A1': [0.5, 1, 0.7, 0.7, 0.8],\n",
    "    'A2': [0.8, 0.7, 1, 0.5, 1],\n",
    "    'A3': [1, 0.3, 0.4, 0.7, 1],\n",
    "    'A4': [0.2, 1, 0.5, 0.9, 0.7],\n",
    "    'A5': [1, 0.7, 0.4, 0.7, 0.1]\n",
    "}\n"
   ]
  },
  {
   "cell_type": "code",
   "execution_count": 26,
   "id": "bf7de08d",
   "metadata": {},
   "outputs": [
    {
     "name": "stdout",
     "output_type": "stream",
     "text": [
      "Matriks Awal:\n"
     ]
    },
    {
     "data": {
      "text/html": [
       "<div>\n",
       "<style scoped>\n",
       "    .dataframe tbody tr th:only-of-type {\n",
       "        vertical-align: middle;\n",
       "    }\n",
       "\n",
       "    .dataframe tbody tr th {\n",
       "        vertical-align: top;\n",
       "    }\n",
       "\n",
       "    .dataframe thead th {\n",
       "        text-align: right;\n",
       "    }\n",
       "</style>\n",
       "<table border=\"1\" class=\"dataframe\">\n",
       "  <thead>\n",
       "    <tr style=\"text-align: right;\">\n",
       "      <th></th>\n",
       "      <th>A1</th>\n",
       "      <th>A2</th>\n",
       "      <th>A3</th>\n",
       "      <th>A4</th>\n",
       "      <th>A5</th>\n",
       "    </tr>\n",
       "  </thead>\n",
       "  <tbody>\n",
       "    <tr>\n",
       "      <th>pengalaman kerja</th>\n",
       "      <td>0.5</td>\n",
       "      <td>0.8</td>\n",
       "      <td>1.0</td>\n",
       "      <td>0.2</td>\n",
       "      <td>1.0</td>\n",
       "    </tr>\n",
       "    <tr>\n",
       "      <th>pendidikan</th>\n",
       "      <td>1.0</td>\n",
       "      <td>0.7</td>\n",
       "      <td>0.3</td>\n",
       "      <td>1.0</td>\n",
       "      <td>0.7</td>\n",
       "    </tr>\n",
       "    <tr>\n",
       "      <th>usia</th>\n",
       "      <td>0.7</td>\n",
       "      <td>1.0</td>\n",
       "      <td>0.4</td>\n",
       "      <td>0.5</td>\n",
       "      <td>0.4</td>\n",
       "    </tr>\n",
       "    <tr>\n",
       "      <th>status perkawinan</th>\n",
       "      <td>0.7</td>\n",
       "      <td>0.5</td>\n",
       "      <td>0.7</td>\n",
       "      <td>0.9</td>\n",
       "      <td>0.7</td>\n",
       "    </tr>\n",
       "    <tr>\n",
       "      <th>status perwakinan</th>\n",
       "      <td>0.8</td>\n",
       "      <td>1.0</td>\n",
       "      <td>1.0</td>\n",
       "      <td>0.7</td>\n",
       "      <td>0.1</td>\n",
       "    </tr>\n",
       "  </tbody>\n",
       "</table>\n",
       "</div>"
      ],
      "text/plain": [
       "                    A1   A2   A3   A4   A5\n",
       "pengalaman kerja   0.5  0.8  1.0  0.2  1.0\n",
       "pendidikan         1.0  0.7  0.3  1.0  0.7\n",
       "usia               0.7  1.0  0.4  0.5  0.4\n",
       "status perkawinan  0.7  0.5  0.7  0.9  0.7\n",
       "status perwakinan  0.8  1.0  1.0  0.7  0.1"
      ]
     },
     "metadata": {},
     "output_type": "display_data"
    }
   ],
   "source": [
    "\n",
    "df_pekerja = pd.DataFrame(data_matriks_pekerja, index=criteria)\n",
    "print(\"Matriks Awal:\")\n",
    "display(df_pekerja)\n"
   ]
  },
  {
   "cell_type": "code",
   "execution_count": 27,
   "id": "8bad29c1",
   "metadata": {},
   "outputs": [
    {
     "name": "stdout",
     "output_type": "stream",
     "text": [
      "Matriks Normalisasi:\n"
     ]
    },
    {
     "data": {
      "text/html": [
       "<div>\n",
       "<style scoped>\n",
       "    .dataframe tbody tr th:only-of-type {\n",
       "        vertical-align: middle;\n",
       "    }\n",
       "\n",
       "    .dataframe tbody tr th {\n",
       "        vertical-align: top;\n",
       "    }\n",
       "\n",
       "    .dataframe thead th {\n",
       "        text-align: right;\n",
       "    }\n",
       "</style>\n",
       "<table border=\"1\" class=\"dataframe\">\n",
       "  <thead>\n",
       "    <tr style=\"text-align: right;\">\n",
       "      <th></th>\n",
       "      <th>A1</th>\n",
       "      <th>A2</th>\n",
       "      <th>A3</th>\n",
       "      <th>A4</th>\n",
       "      <th>A5</th>\n",
       "    </tr>\n",
       "  </thead>\n",
       "  <tbody>\n",
       "    <tr>\n",
       "      <th>pengalaman kerja</th>\n",
       "      <td>0.500000</td>\n",
       "      <td>0.8</td>\n",
       "      <td>1.000000</td>\n",
       "      <td>0.200000</td>\n",
       "      <td>1.000000</td>\n",
       "    </tr>\n",
       "    <tr>\n",
       "      <th>pendidikan</th>\n",
       "      <td>1.000000</td>\n",
       "      <td>0.7</td>\n",
       "      <td>0.300000</td>\n",
       "      <td>1.000000</td>\n",
       "      <td>0.700000</td>\n",
       "    </tr>\n",
       "    <tr>\n",
       "      <th>usia</th>\n",
       "      <td>0.700000</td>\n",
       "      <td>1.0</td>\n",
       "      <td>0.400000</td>\n",
       "      <td>0.500000</td>\n",
       "      <td>0.400000</td>\n",
       "    </tr>\n",
       "    <tr>\n",
       "      <th>status perkawinan</th>\n",
       "      <td>0.714286</td>\n",
       "      <td>1.0</td>\n",
       "      <td>0.714286</td>\n",
       "      <td>0.555556</td>\n",
       "      <td>0.714286</td>\n",
       "    </tr>\n",
       "    <tr>\n",
       "      <th>status perwakinan</th>\n",
       "      <td>0.125000</td>\n",
       "      <td>0.1</td>\n",
       "      <td>0.100000</td>\n",
       "      <td>0.142857</td>\n",
       "      <td>1.000000</td>\n",
       "    </tr>\n",
       "  </tbody>\n",
       "</table>\n",
       "</div>"
      ],
      "text/plain": [
       "                         A1   A2        A3        A4        A5\n",
       "pengalaman kerja   0.500000  0.8  1.000000  0.200000  1.000000\n",
       "pendidikan         1.000000  0.7  0.300000  1.000000  0.700000\n",
       "usia               0.700000  1.0  0.400000  0.500000  0.400000\n",
       "status perkawinan  0.714286  1.0  0.714286  0.555556  0.714286\n",
       "status perwakinan  0.125000  0.1  0.100000  0.142857  1.000000"
      ]
     },
     "metadata": {},
     "output_type": "display_data"
    }
   ],
   "source": [
    "\n",
    "# Langkah 3: Normalisasi Matriks\n",
    "df_normalized = df_pekerja.copy()\n",
    "for i, tipe in enumerate(types):\n",
    "    row = df_pekerja.iloc[i]\n",
    "    if tipe == 'benefit':\n",
    "        df_normalized.iloc[i] = row / row.max()\n",
    "    else:  # cost\n",
    "        df_normalized.iloc[i] = row.min() / row\n",
    "\n",
    "print(\"Matriks Normalisasi:\")\n",
    "display(df_normalized)\n"
   ]
  },
  {
   "cell_type": "code",
   "execution_count": 28,
   "id": "9ddc113a",
   "metadata": {},
   "outputs": [
    {
     "name": "stdout",
     "output_type": "stream",
     "text": [
      "Matriks Ternormalisasi Terbobot:\n"
     ]
    },
    {
     "data": {
      "text/html": [
       "<div>\n",
       "<style scoped>\n",
       "    .dataframe tbody tr th:only-of-type {\n",
       "        vertical-align: middle;\n",
       "    }\n",
       "\n",
       "    .dataframe tbody tr th {\n",
       "        vertical-align: top;\n",
       "    }\n",
       "\n",
       "    .dataframe thead th {\n",
       "        text-align: right;\n",
       "    }\n",
       "</style>\n",
       "<table border=\"1\" class=\"dataframe\">\n",
       "  <thead>\n",
       "    <tr style=\"text-align: right;\">\n",
       "      <th></th>\n",
       "      <th>A1</th>\n",
       "      <th>A2</th>\n",
       "      <th>A3</th>\n",
       "      <th>A4</th>\n",
       "      <th>A5</th>\n",
       "    </tr>\n",
       "  </thead>\n",
       "  <tbody>\n",
       "    <tr>\n",
       "      <th>pengalaman kerja</th>\n",
       "      <td>0.150000</td>\n",
       "      <td>0.240</td>\n",
       "      <td>0.300000</td>\n",
       "      <td>0.060000</td>\n",
       "      <td>0.300000</td>\n",
       "    </tr>\n",
       "    <tr>\n",
       "      <th>pendidikan</th>\n",
       "      <td>0.200000</td>\n",
       "      <td>0.140</td>\n",
       "      <td>0.060000</td>\n",
       "      <td>0.200000</td>\n",
       "      <td>0.140000</td>\n",
       "    </tr>\n",
       "    <tr>\n",
       "      <th>usia</th>\n",
       "      <td>0.140000</td>\n",
       "      <td>0.200</td>\n",
       "      <td>0.080000</td>\n",
       "      <td>0.100000</td>\n",
       "      <td>0.080000</td>\n",
       "    </tr>\n",
       "    <tr>\n",
       "      <th>status perkawinan</th>\n",
       "      <td>0.107143</td>\n",
       "      <td>0.150</td>\n",
       "      <td>0.107143</td>\n",
       "      <td>0.083333</td>\n",
       "      <td>0.107143</td>\n",
       "    </tr>\n",
       "    <tr>\n",
       "      <th>status perwakinan</th>\n",
       "      <td>0.018750</td>\n",
       "      <td>0.015</td>\n",
       "      <td>0.015000</td>\n",
       "      <td>0.021429</td>\n",
       "      <td>0.150000</td>\n",
       "    </tr>\n",
       "  </tbody>\n",
       "</table>\n",
       "</div>"
      ],
      "text/plain": [
       "                         A1     A2        A3        A4        A5\n",
       "pengalaman kerja   0.150000  0.240  0.300000  0.060000  0.300000\n",
       "pendidikan         0.200000  0.140  0.060000  0.200000  0.140000\n",
       "usia               0.140000  0.200  0.080000  0.100000  0.080000\n",
       "status perkawinan  0.107143  0.150  0.107143  0.083333  0.107143\n",
       "status perwakinan  0.018750  0.015  0.015000  0.021429  0.150000"
      ]
     },
     "metadata": {},
     "output_type": "display_data"
    }
   ],
   "source": [
    "\n",
    "# Langkah 4: Matriks Ternormalisasi Terbobot\n",
    "df_terbobot = df_normalized.copy()\n",
    "for i in range(len(bobot)):\n",
    "    df_terbobot.iloc[i] *= bobot[i]\n",
    "\n",
    "print(\"Matriks Ternormalisasi Terbobot:\")\n",
    "display(df_terbobot)\n"
   ]
  },
  {
   "cell_type": "code",
   "execution_count": 29,
   "id": "b3e7f651",
   "metadata": {},
   "outputs": [
    {
     "name": "stdout",
     "output_type": "stream",
     "text": [
      "Skor Akhir Tiap Alternatif:\n"
     ]
    },
    {
     "data": {
      "text/plain": [
       "A1    0.615893\n",
       "A2    0.745000\n",
       "A3    0.562143\n",
       "A4    0.464762\n",
       "A5    0.777143\n",
       "dtype: float64"
      ]
     },
     "metadata": {},
     "output_type": "display_data"
    }
   ],
   "source": [
    "\n",
    "# Langkah 5: Menjumlahkan skor akhir untuk tiap alternatif\n",
    "skor_akhir = df_terbobot.sum(axis=0)\n",
    "print(\"Skor Akhir Tiap Alternatif:\")\n",
    "display(skor_akhir)\n"
   ]
  },
  {
   "cell_type": "code",
   "execution_count": 30,
   "id": "8e6b1a80",
   "metadata": {},
   "outputs": [
    {
     "name": "stdout",
     "output_type": "stream",
     "text": [
      "Peringkat Alternatif:\n"
     ]
    },
    {
     "data": {
      "text/plain": [
       "A5    0.777143\n",
       "A2    0.745000\n",
       "A1    0.615893\n",
       "A3    0.562143\n",
       "A4    0.464762\n",
       "dtype: float64"
      ]
     },
     "metadata": {},
     "output_type": "display_data"
    }
   ],
   "source": [
    "\n",
    "# Langkah 6: Menentukan peringkat\n",
    "peringkat = skor_akhir.sort_values(ascending=False)\n",
    "print(\"Peringkat Alternatif:\")\n",
    "display(peringkat)\n"
   ]
  },
  {
   "cell_type": "markdown",
   "id": "80197c59",
   "metadata": {},
   "source": [
    "Berdasarkan hasil analisis, kandidat A5 menempati peringkat tertinggi dengan skor keseluruhan terbaik, disusul oleh A2 dan A1. Hal ini menunjukkan bahwa A5 paling memenuhi kriteria yang telah ditentukan, terutama pada aspek yang dianggap penting seperti pengalaman kerja dan pendidikan."
   ]
  },
  {
   "cell_type": "code",
   "execution_count": 31,
   "id": "4c819a62",
   "metadata": {},
   "outputs": [],
   "source": [
    "# TOPSIS (Technique for Order of Preference by Similarity to Ideal Solution) untuk pemilihan HP midrange berdasarkan 5 kriteria\n",
    "\n",
    "\n",
    "# Langkah 1: Definisi kriteria dan tipe\n",
    "criteria = ['Storage', 'Kamera', 'Harga', 'Berat', 'Bonus']\n",
    "types = ['benefit', 'benefit', 'cost', 'cost', 'benefit']\n",
    "bobot = np.array([0.25, 0.25, 0.2, 0.15, 0.15])\n",
    "\n",
    "# Langkah 2: Data awal HP\n",
    "# Format: [Storage (GB), Kamera (MP), Harga ($), Berat (gram), Bonus (ya=1, tidak=0)]\n",
    "data_hp = {\n",
    "    'Redmi Note 14 Pro+': [512, 200, 499, 187, 1],\n",
    "    'Pixel 8a': [128, 64, 499, 188, 0],\n",
    "    'Vivo V50': [256, 108, 520, 190, 1],\n",
    "    'OnePlus Nord 4': [256, 64, 530, 195, 1],\n",
    "    'Samsung A56': [128, 50, 550, 200, 0]\n",
    "}\n"
   ]
  },
  {
   "cell_type": "code",
   "execution_count": 32,
   "id": "c72b4d6d",
   "metadata": {},
   "outputs": [
    {
     "name": "stdout",
     "output_type": "stream",
     "text": [
      "Matriks Awal:\n"
     ]
    },
    {
     "data": {
      "text/html": [
       "<div>\n",
       "<style scoped>\n",
       "    .dataframe tbody tr th:only-of-type {\n",
       "        vertical-align: middle;\n",
       "    }\n",
       "\n",
       "    .dataframe tbody tr th {\n",
       "        vertical-align: top;\n",
       "    }\n",
       "\n",
       "    .dataframe thead th {\n",
       "        text-align: right;\n",
       "    }\n",
       "</style>\n",
       "<table border=\"1\" class=\"dataframe\">\n",
       "  <thead>\n",
       "    <tr style=\"text-align: right;\">\n",
       "      <th></th>\n",
       "      <th>Redmi Note 14 Pro+</th>\n",
       "      <th>Pixel 8a</th>\n",
       "      <th>Vivo V50</th>\n",
       "      <th>OnePlus Nord 4</th>\n",
       "      <th>Samsung A56</th>\n",
       "    </tr>\n",
       "  </thead>\n",
       "  <tbody>\n",
       "    <tr>\n",
       "      <th>Storage</th>\n",
       "      <td>512</td>\n",
       "      <td>128</td>\n",
       "      <td>256</td>\n",
       "      <td>256</td>\n",
       "      <td>128</td>\n",
       "    </tr>\n",
       "    <tr>\n",
       "      <th>Kamera</th>\n",
       "      <td>200</td>\n",
       "      <td>64</td>\n",
       "      <td>108</td>\n",
       "      <td>64</td>\n",
       "      <td>50</td>\n",
       "    </tr>\n",
       "    <tr>\n",
       "      <th>Harga</th>\n",
       "      <td>499</td>\n",
       "      <td>499</td>\n",
       "      <td>520</td>\n",
       "      <td>530</td>\n",
       "      <td>550</td>\n",
       "    </tr>\n",
       "    <tr>\n",
       "      <th>Berat</th>\n",
       "      <td>187</td>\n",
       "      <td>188</td>\n",
       "      <td>190</td>\n",
       "      <td>195</td>\n",
       "      <td>200</td>\n",
       "    </tr>\n",
       "    <tr>\n",
       "      <th>Bonus</th>\n",
       "      <td>1</td>\n",
       "      <td>0</td>\n",
       "      <td>1</td>\n",
       "      <td>1</td>\n",
       "      <td>0</td>\n",
       "    </tr>\n",
       "  </tbody>\n",
       "</table>\n",
       "</div>"
      ],
      "text/plain": [
       "         Redmi Note 14 Pro+  Pixel 8a  Vivo V50  OnePlus Nord 4  Samsung A56\n",
       "Storage                 512       128       256             256          128\n",
       "Kamera                  200        64       108              64           50\n",
       "Harga                   499       499       520             530          550\n",
       "Berat                   187       188       190             195          200\n",
       "Bonus                     1         0         1               1            0"
      ]
     },
     "metadata": {},
     "output_type": "display_data"
    }
   ],
   "source": [
    "\n",
    "# Buat DataFrame awal\n",
    "df_hp = pd.DataFrame(data_hp, index=criteria)\n",
    "print(\"Matriks Awal:\")\n",
    "display(df_hp)\n"
   ]
  },
  {
   "cell_type": "code",
   "execution_count": 33,
   "id": "5c22cf74",
   "metadata": {},
   "outputs": [
    {
     "name": "stdout",
     "output_type": "stream",
     "text": [
      "Matriks Normalisasi:\n"
     ]
    },
    {
     "data": {
      "text/html": [
       "<div>\n",
       "<style scoped>\n",
       "    .dataframe tbody tr th:only-of-type {\n",
       "        vertical-align: middle;\n",
       "    }\n",
       "\n",
       "    .dataframe tbody tr th {\n",
       "        vertical-align: top;\n",
       "    }\n",
       "\n",
       "    .dataframe thead th {\n",
       "        text-align: right;\n",
       "    }\n",
       "</style>\n",
       "<table border=\"1\" class=\"dataframe\">\n",
       "  <thead>\n",
       "    <tr style=\"text-align: right;\">\n",
       "      <th></th>\n",
       "      <th>Redmi Note 14 Pro+</th>\n",
       "      <th>Pixel 8a</th>\n",
       "      <th>Vivo V50</th>\n",
       "      <th>OnePlus Nord 4</th>\n",
       "      <th>Samsung A56</th>\n",
       "    </tr>\n",
       "  </thead>\n",
       "  <tbody>\n",
       "    <tr>\n",
       "      <th>Storage</th>\n",
       "      <td>1.0</td>\n",
       "      <td>0.250000</td>\n",
       "      <td>0.500000</td>\n",
       "      <td>0.500000</td>\n",
       "      <td>0.250000</td>\n",
       "    </tr>\n",
       "    <tr>\n",
       "      <th>Kamera</th>\n",
       "      <td>1.0</td>\n",
       "      <td>0.320000</td>\n",
       "      <td>0.540000</td>\n",
       "      <td>0.320000</td>\n",
       "      <td>0.250000</td>\n",
       "    </tr>\n",
       "    <tr>\n",
       "      <th>Harga</th>\n",
       "      <td>1.0</td>\n",
       "      <td>1.000000</td>\n",
       "      <td>0.959615</td>\n",
       "      <td>0.941509</td>\n",
       "      <td>0.907273</td>\n",
       "    </tr>\n",
       "    <tr>\n",
       "      <th>Berat</th>\n",
       "      <td>1.0</td>\n",
       "      <td>0.994681</td>\n",
       "      <td>0.984211</td>\n",
       "      <td>0.958974</td>\n",
       "      <td>0.935000</td>\n",
       "    </tr>\n",
       "    <tr>\n",
       "      <th>Bonus</th>\n",
       "      <td>1.0</td>\n",
       "      <td>0.000000</td>\n",
       "      <td>1.000000</td>\n",
       "      <td>1.000000</td>\n",
       "      <td>0.000000</td>\n",
       "    </tr>\n",
       "  </tbody>\n",
       "</table>\n",
       "</div>"
      ],
      "text/plain": [
       "         Redmi Note 14 Pro+  Pixel 8a  Vivo V50  OnePlus Nord 4  Samsung A56\n",
       "Storage                 1.0  0.250000  0.500000        0.500000     0.250000\n",
       "Kamera                  1.0  0.320000  0.540000        0.320000     0.250000\n",
       "Harga                   1.0  1.000000  0.959615        0.941509     0.907273\n",
       "Berat                   1.0  0.994681  0.984211        0.958974     0.935000\n",
       "Bonus                   1.0  0.000000  1.000000        1.000000     0.000000"
      ]
     },
     "metadata": {},
     "output_type": "display_data"
    }
   ],
   "source": [
    "\n",
    "# Langkah 3: Normalisasi matriks\n",
    "df_normalized = df_hp.astype(float).copy()\n",
    "for i, tipe in enumerate(types):\n",
    "    row = df_hp.iloc[i]\n",
    "    if tipe == 'benefit':\n",
    "        df_normalized.iloc[i] = row / row.max()\n",
    "    else:  # cost\n",
    "        df_normalized.iloc[i] = row.min() / row\n",
    "\n",
    "print(\"Matriks Normalisasi:\")\n",
    "display(df_normalized)\n"
   ]
  },
  {
   "cell_type": "code",
   "execution_count": 34,
   "id": "878ac590",
   "metadata": {},
   "outputs": [
    {
     "name": "stdout",
     "output_type": "stream",
     "text": [
      "Matriks Ternormalisasi Terbobot:\n"
     ]
    },
    {
     "data": {
      "text/html": [
       "<div>\n",
       "<style scoped>\n",
       "    .dataframe tbody tr th:only-of-type {\n",
       "        vertical-align: middle;\n",
       "    }\n",
       "\n",
       "    .dataframe tbody tr th {\n",
       "        vertical-align: top;\n",
       "    }\n",
       "\n",
       "    .dataframe thead th {\n",
       "        text-align: right;\n",
       "    }\n",
       "</style>\n",
       "<table border=\"1\" class=\"dataframe\">\n",
       "  <thead>\n",
       "    <tr style=\"text-align: right;\">\n",
       "      <th></th>\n",
       "      <th>Redmi Note 14 Pro+</th>\n",
       "      <th>Pixel 8a</th>\n",
       "      <th>Vivo V50</th>\n",
       "      <th>OnePlus Nord 4</th>\n",
       "      <th>Samsung A56</th>\n",
       "    </tr>\n",
       "  </thead>\n",
       "  <tbody>\n",
       "    <tr>\n",
       "      <th>Storage</th>\n",
       "      <td>0.25</td>\n",
       "      <td>0.062500</td>\n",
       "      <td>0.125000</td>\n",
       "      <td>0.125000</td>\n",
       "      <td>0.062500</td>\n",
       "    </tr>\n",
       "    <tr>\n",
       "      <th>Kamera</th>\n",
       "      <td>0.25</td>\n",
       "      <td>0.080000</td>\n",
       "      <td>0.135000</td>\n",
       "      <td>0.080000</td>\n",
       "      <td>0.062500</td>\n",
       "    </tr>\n",
       "    <tr>\n",
       "      <th>Harga</th>\n",
       "      <td>0.20</td>\n",
       "      <td>0.200000</td>\n",
       "      <td>0.191923</td>\n",
       "      <td>0.188302</td>\n",
       "      <td>0.181455</td>\n",
       "    </tr>\n",
       "    <tr>\n",
       "      <th>Berat</th>\n",
       "      <td>0.15</td>\n",
       "      <td>0.149202</td>\n",
       "      <td>0.147632</td>\n",
       "      <td>0.143846</td>\n",
       "      <td>0.140250</td>\n",
       "    </tr>\n",
       "    <tr>\n",
       "      <th>Bonus</th>\n",
       "      <td>0.15</td>\n",
       "      <td>0.000000</td>\n",
       "      <td>0.150000</td>\n",
       "      <td>0.150000</td>\n",
       "      <td>0.000000</td>\n",
       "    </tr>\n",
       "  </tbody>\n",
       "</table>\n",
       "</div>"
      ],
      "text/plain": [
       "         Redmi Note 14 Pro+  Pixel 8a  Vivo V50  OnePlus Nord 4  Samsung A56\n",
       "Storage                0.25  0.062500  0.125000        0.125000     0.062500\n",
       "Kamera                 0.25  0.080000  0.135000        0.080000     0.062500\n",
       "Harga                  0.20  0.200000  0.191923        0.188302     0.181455\n",
       "Berat                  0.15  0.149202  0.147632        0.143846     0.140250\n",
       "Bonus                  0.15  0.000000  0.150000        0.150000     0.000000"
      ]
     },
     "metadata": {},
     "output_type": "display_data"
    }
   ],
   "source": [
    "\n",
    "# Langkah 4: Matriks Ternormalisasi Terbobot\n",
    "df_terbobot = df_normalized.copy()\n",
    "for i in range(len(bobot)):\n",
    "    df_terbobot.iloc[i] *= bobot[i]\n",
    "\n",
    "print(\"Matriks Ternormalisasi Terbobot:\")\n",
    "display(df_terbobot)\n"
   ]
  },
  {
   "cell_type": "code",
   "execution_count": 35,
   "id": "5e9076f0",
   "metadata": {},
   "outputs": [
    {
     "name": "stdout",
     "output_type": "stream",
     "text": [
      "Skor Akhir Tiap Alternatif:\n"
     ]
    },
    {
     "data": {
      "text/plain": [
       "Redmi Note 14 Pro+    1.000000\n",
       "Pixel 8a              0.491702\n",
       "Vivo V50              0.749555\n",
       "OnePlus Nord 4        0.687148\n",
       "Samsung A56           0.446705\n",
       "dtype: float64"
      ]
     },
     "metadata": {},
     "output_type": "display_data"
    }
   ],
   "source": [
    "\n",
    "# Langkah 5: Menjumlahkan skor akhir tiap alternatif\n",
    "skor_akhir = df_terbobot.sum(axis=0)\n",
    "print(\"Skor Akhir Tiap Alternatif:\")\n",
    "display(skor_akhir)\n"
   ]
  },
  {
   "cell_type": "markdown",
   "id": "15f1e61b",
   "metadata": {},
   "source": [
    "Redmi Note 14 Pro+ menempati peringkat pertama dengan skor tertinggi. Ini berarti secara keseluruhan, ponsel ini menawarkan kombinasi terbaik dari penyimpanan besar, kamera bagus, harga terjangkau, bobot cukup ringan, dan bonus fitur menarik dibandingkan ponsel lainnya di kelas mid-range."
   ]
  },
  {
   "cell_type": "code",
   "execution_count": 36,
   "id": "3cdde712",
   "metadata": {},
   "outputs": [
    {
     "name": "stdout",
     "output_type": "stream",
     "text": [
      "Matriks Awal:\n"
     ]
    },
    {
     "data": {
      "text/html": [
       "<div>\n",
       "<style scoped>\n",
       "    .dataframe tbody tr th:only-of-type {\n",
       "        vertical-align: middle;\n",
       "    }\n",
       "\n",
       "    .dataframe tbody tr th {\n",
       "        vertical-align: top;\n",
       "    }\n",
       "\n",
       "    .dataframe thead th {\n",
       "        text-align: right;\n",
       "    }\n",
       "</style>\n",
       "<table border=\"1\" class=\"dataframe\">\n",
       "  <thead>\n",
       "    <tr style=\"text-align: right;\">\n",
       "      <th></th>\n",
       "      <th>A1</th>\n",
       "      <th>A2</th>\n",
       "      <th>A3</th>\n",
       "      <th>A4</th>\n",
       "      <th>A5</th>\n",
       "      <th>A6</th>\n",
       "    </tr>\n",
       "  </thead>\n",
       "  <tbody>\n",
       "    <tr>\n",
       "      <th>Tes Pengetahuan IT</th>\n",
       "      <td>70</td>\n",
       "      <td>50</td>\n",
       "      <td>82</td>\n",
       "      <td>89</td>\n",
       "      <td>75</td>\n",
       "      <td>62</td>\n",
       "    </tr>\n",
       "    <tr>\n",
       "      <th>Praktek Instalasi Jaringan</th>\n",
       "      <td>62</td>\n",
       "      <td>76</td>\n",
       "      <td>53</td>\n",
       "      <td>68</td>\n",
       "      <td>72</td>\n",
       "      <td>59</td>\n",
       "    </tr>\n",
       "    <tr>\n",
       "      <th>Tes Kepribadian</th>\n",
       "      <td>84</td>\n",
       "      <td>82</td>\n",
       "      <td>78</td>\n",
       "      <td>73</td>\n",
       "      <td>86</td>\n",
       "      <td>75</td>\n",
       "    </tr>\n",
       "    <tr>\n",
       "      <th>Tes Pengetahuan Agama</th>\n",
       "      <td>68</td>\n",
       "      <td>76</td>\n",
       "      <td>71</td>\n",
       "      <td>86</td>\n",
       "      <td>74</td>\n",
       "      <td>84</td>\n",
       "    </tr>\n",
       "  </tbody>\n",
       "</table>\n",
       "</div>"
      ],
      "text/plain": [
       "                            A1  A2  A3  A4  A5  A6\n",
       "Tes Pengetahuan IT          70  50  82  89  75  62\n",
       "Praktek Instalasi Jaringan  62  76  53  68  72  59\n",
       "Tes Kepribadian             84  82  78  73  86  75\n",
       "Tes Pengetahuan Agama       68  76  71  86  74  84"
      ]
     },
     "metadata": {},
     "output_type": "display_data"
    }
   ],
   "source": [
    "# TOPSIS (Technique for Order of Preference by Similarity to Ideal Solution) sederhana untuk kepala laboratorium IT\n",
    "\n",
    "# Langkah 1: Definisi kriteria dan bobot\n",
    "criteria = ['Tes Pengetahuan IT', 'Praktek Instalasi Jaringan', 'Tes Kepribadian', 'Tes Pengetahuan Agama']\n",
    "types = ['cost', 'cost', 'benefit', 'benefit']\n",
    "bobot = np.array([0.35, 0.30, 0.25, 0.10])\n",
    "\n",
    "# Langkah 2: Data awal dari tabel\n",
    "data = {\n",
    "    'A1': [70, 62, 84, 68],\n",
    "    'A2': [50, 76, 82, 76],\n",
    "    'A3': [82, 53, 78, 71],\n",
    "    'A4': [89, 68, 73, 86],\n",
    "    'A5': [75, 72, 86, 74],\n",
    "    'A6': [62, 59, 75, 84]\n",
    "}\n",
    "\n",
    "# Buat DataFrame awal\n",
    "df = pd.DataFrame(data, index=criteria)\n",
    "print(\"Matriks Awal:\")\n",
    "display(df)\n"
   ]
  },
  {
   "cell_type": "code",
   "execution_count": 37,
   "id": "25006e29",
   "metadata": {},
   "outputs": [
    {
     "name": "stdout",
     "output_type": "stream",
     "text": [
      "Matriks Normalisasi:\n"
     ]
    },
    {
     "data": {
      "text/html": [
       "<div>\n",
       "<style scoped>\n",
       "    .dataframe tbody tr th:only-of-type {\n",
       "        vertical-align: middle;\n",
       "    }\n",
       "\n",
       "    .dataframe tbody tr th {\n",
       "        vertical-align: top;\n",
       "    }\n",
       "\n",
       "    .dataframe thead th {\n",
       "        text-align: right;\n",
       "    }\n",
       "</style>\n",
       "<table border=\"1\" class=\"dataframe\">\n",
       "  <thead>\n",
       "    <tr style=\"text-align: right;\">\n",
       "      <th></th>\n",
       "      <th>A1</th>\n",
       "      <th>A2</th>\n",
       "      <th>A3</th>\n",
       "      <th>A4</th>\n",
       "      <th>A5</th>\n",
       "      <th>A6</th>\n",
       "    </tr>\n",
       "  </thead>\n",
       "  <tbody>\n",
       "    <tr>\n",
       "      <th>Tes Pengetahuan IT</th>\n",
       "      <td>0.714286</td>\n",
       "      <td>1.000000</td>\n",
       "      <td>0.609756</td>\n",
       "      <td>0.561798</td>\n",
       "      <td>0.666667</td>\n",
       "      <td>0.806452</td>\n",
       "    </tr>\n",
       "    <tr>\n",
       "      <th>Praktek Instalasi Jaringan</th>\n",
       "      <td>0.854839</td>\n",
       "      <td>0.697368</td>\n",
       "      <td>1.000000</td>\n",
       "      <td>0.779412</td>\n",
       "      <td>0.736111</td>\n",
       "      <td>0.898305</td>\n",
       "    </tr>\n",
       "    <tr>\n",
       "      <th>Tes Kepribadian</th>\n",
       "      <td>0.976744</td>\n",
       "      <td>0.953488</td>\n",
       "      <td>0.906977</td>\n",
       "      <td>0.848837</td>\n",
       "      <td>1.000000</td>\n",
       "      <td>0.872093</td>\n",
       "    </tr>\n",
       "    <tr>\n",
       "      <th>Tes Pengetahuan Agama</th>\n",
       "      <td>0.790698</td>\n",
       "      <td>0.883721</td>\n",
       "      <td>0.825581</td>\n",
       "      <td>1.000000</td>\n",
       "      <td>0.860465</td>\n",
       "      <td>0.976744</td>\n",
       "    </tr>\n",
       "  </tbody>\n",
       "</table>\n",
       "</div>"
      ],
      "text/plain": [
       "                                  A1        A2        A3        A4        A5  \\\n",
       "Tes Pengetahuan IT          0.714286  1.000000  0.609756  0.561798  0.666667   \n",
       "Praktek Instalasi Jaringan  0.854839  0.697368  1.000000  0.779412  0.736111   \n",
       "Tes Kepribadian             0.976744  0.953488  0.906977  0.848837  1.000000   \n",
       "Tes Pengetahuan Agama       0.790698  0.883721  0.825581  1.000000  0.860465   \n",
       "\n",
       "                                  A6  \n",
       "Tes Pengetahuan IT          0.806452  \n",
       "Praktek Instalasi Jaringan  0.898305  \n",
       "Tes Kepribadian             0.872093  \n",
       "Tes Pengetahuan Agama       0.976744  "
      ]
     },
     "metadata": {},
     "output_type": "display_data"
    }
   ],
   "source": [
    "# Langkah 3: Normalisasi matriks\n",
    "df_normalized = df.astype(float).copy()\n",
    "for i, tipe in enumerate(types):\n",
    "    row = df.iloc[i]\n",
    "    if tipe == 'benefit':\n",
    "        df_normalized.iloc[i] = row / row.max()\n",
    "    else:\n",
    "        df_normalized.iloc[i] = row.min() / row\n",
    "\n",
    "print(\"Matriks Normalisasi:\")\n",
    "display(df_normalized)\n"
   ]
  },
  {
   "cell_type": "code",
   "execution_count": 38,
   "id": "a64284ad",
   "metadata": {},
   "outputs": [
    {
     "name": "stdout",
     "output_type": "stream",
     "text": [
      "Matriks Ternormalisasi Terbobot:\n"
     ]
    },
    {
     "data": {
      "text/html": [
       "<div>\n",
       "<style scoped>\n",
       "    .dataframe tbody tr th:only-of-type {\n",
       "        vertical-align: middle;\n",
       "    }\n",
       "\n",
       "    .dataframe tbody tr th {\n",
       "        vertical-align: top;\n",
       "    }\n",
       "\n",
       "    .dataframe thead th {\n",
       "        text-align: right;\n",
       "    }\n",
       "</style>\n",
       "<table border=\"1\" class=\"dataframe\">\n",
       "  <thead>\n",
       "    <tr style=\"text-align: right;\">\n",
       "      <th></th>\n",
       "      <th>A1</th>\n",
       "      <th>A2</th>\n",
       "      <th>A3</th>\n",
       "      <th>A4</th>\n",
       "      <th>A5</th>\n",
       "      <th>A6</th>\n",
       "    </tr>\n",
       "  </thead>\n",
       "  <tbody>\n",
       "    <tr>\n",
       "      <th>Tes Pengetahuan IT</th>\n",
       "      <td>0.250000</td>\n",
       "      <td>0.350000</td>\n",
       "      <td>0.213415</td>\n",
       "      <td>0.196629</td>\n",
       "      <td>0.233333</td>\n",
       "      <td>0.282258</td>\n",
       "    </tr>\n",
       "    <tr>\n",
       "      <th>Praktek Instalasi Jaringan</th>\n",
       "      <td>0.256452</td>\n",
       "      <td>0.209211</td>\n",
       "      <td>0.300000</td>\n",
       "      <td>0.233824</td>\n",
       "      <td>0.220833</td>\n",
       "      <td>0.269492</td>\n",
       "    </tr>\n",
       "    <tr>\n",
       "      <th>Tes Kepribadian</th>\n",
       "      <td>0.244186</td>\n",
       "      <td>0.238372</td>\n",
       "      <td>0.226744</td>\n",
       "      <td>0.212209</td>\n",
       "      <td>0.250000</td>\n",
       "      <td>0.218023</td>\n",
       "    </tr>\n",
       "    <tr>\n",
       "      <th>Tes Pengetahuan Agama</th>\n",
       "      <td>0.079070</td>\n",
       "      <td>0.088372</td>\n",
       "      <td>0.082558</td>\n",
       "      <td>0.100000</td>\n",
       "      <td>0.086047</td>\n",
       "      <td>0.097674</td>\n",
       "    </tr>\n",
       "  </tbody>\n",
       "</table>\n",
       "</div>"
      ],
      "text/plain": [
       "                                  A1        A2        A3        A4        A5  \\\n",
       "Tes Pengetahuan IT          0.250000  0.350000  0.213415  0.196629  0.233333   \n",
       "Praktek Instalasi Jaringan  0.256452  0.209211  0.300000  0.233824  0.220833   \n",
       "Tes Kepribadian             0.244186  0.238372  0.226744  0.212209  0.250000   \n",
       "Tes Pengetahuan Agama       0.079070  0.088372  0.082558  0.100000  0.086047   \n",
       "\n",
       "                                  A6  \n",
       "Tes Pengetahuan IT          0.282258  \n",
       "Praktek Instalasi Jaringan  0.269492  \n",
       "Tes Kepribadian             0.218023  \n",
       "Tes Pengetahuan Agama       0.097674  "
      ]
     },
     "metadata": {},
     "output_type": "display_data"
    }
   ],
   "source": [
    "\n",
    "# Langkah 4: Matriks Ternormalisasi Terbobot\n",
    "df_terbobot = df_normalized.copy()\n",
    "for i in range(len(bobot)):\n",
    "    df_terbobot.iloc[i] *= bobot[i]\n",
    "\n",
    "print(\"Matriks Ternormalisasi Terbobot:\")\n",
    "display(df_terbobot)\n"
   ]
  },
  {
   "cell_type": "code",
   "execution_count": 39,
   "id": "ffebedb3",
   "metadata": {},
   "outputs": [
    {
     "name": "stdout",
     "output_type": "stream",
     "text": [
      "Skor Akhir Tiap Alternatif:\n"
     ]
    },
    {
     "data": {
      "text/plain": [
       "A1    0.829707\n",
       "A2    0.885955\n",
       "A3    0.822717\n",
       "A4    0.742662\n",
       "A5    0.790213\n",
       "A6    0.867447\n",
       "dtype: float64"
      ]
     },
     "metadata": {},
     "output_type": "display_data"
    }
   ],
   "source": [
    "\n",
    "# Langkah 5: Menjumlahkan skor akhir tiap alternatif\n",
    "skor_akhir = df_terbobot.sum(axis=0)\n",
    "print(\"Skor Akhir Tiap Alternatif:\")\n",
    "display(skor_akhir)\n"
   ]
  },
  {
   "cell_type": "code",
   "execution_count": 40,
   "id": "d54cb655",
   "metadata": {},
   "outputs": [
    {
     "name": "stdout",
     "output_type": "stream",
     "text": [
      "Peringkat Alternatif:\n"
     ]
    },
    {
     "data": {
      "text/plain": [
       "A2    0.885955\n",
       "A6    0.867447\n",
       "A1    0.829707\n",
       "A3    0.822717\n",
       "A5    0.790213\n",
       "A4    0.742662\n",
       "dtype: float64"
      ]
     },
     "metadata": {},
     "output_type": "display_data"
    }
   ],
   "source": [
    "\n",
    "# Langkah 6: Menentukan peringkat\n",
    "peringkat = skor_akhir.sort_values(ascending=False)\n",
    "print(\"Peringkat Alternatif:\")\n",
    "display(peringkat)\n"
   ]
  },
  {
   "cell_type": "markdown",
   "id": "fdb27e87",
   "metadata": {},
   "source": [
    "Calon A2 (Budi Nugroho) menjadi pilihan terbaik dengan skor tertinggi karena paling memenuhi kriteria seleksi, yaitu memiliki nilai rendah pada tes yang bersifat cost dan nilai tinggi pada tes kepribadian serta pengetahuan agama."
   ]
  }
 ],
 "metadata": {
  "kernelspec": {
   "display_name": "Python 3",
   "language": "python",
   "name": "python3"
  },
  "language_info": {
   "codemirror_mode": {
    "name": "ipython",
    "version": 3
   },
   "file_extension": ".py",
   "mimetype": "text/x-python",
   "name": "python",
   "nbconvert_exporter": "python",
   "pygments_lexer": "ipython3",
   "version": "3.12.10"
  }
 },
 "nbformat": 4,
 "nbformat_minor": 5
}
